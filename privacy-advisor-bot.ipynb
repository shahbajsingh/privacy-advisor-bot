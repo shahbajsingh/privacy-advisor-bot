{
 "cells": [
  {
   "cell_type": "code",
   "execution_count": 1,
   "id": "383521a9",
   "metadata": {},
   "outputs": [],
   "source": [
    "import praw\n",
    "import pandas as pd\n",
    "import random\n",
    "import time\n",
    "\n",
    "# navigate to https://www.reddit.com/prefs/apps/ and create personal script\n",
    "\n",
    "CLIENT_ID = ''\n",
    "CLIENT_SECRET = ''\n",
    "USER_AGENT = ''\n",
    "USERNAME = ''\n",
    "PASSWORD = ''"
   ]
  },
  {
   "cell_type": "code",
   "execution_count": 2,
   "id": "2c16fc00",
   "metadata": {},
   "outputs": [],
   "source": [
    "reddit = praw.Reddit(client_id=CLIENT_ID,\n",
    "                     client_secret=CLIENT_SECRET,\n",
    "                     user_agent=USER_AGENT,\n",
    "                     username=USERNAME,\n",
    "                     password=PASSWORD)"
   ]
  },
  {
   "cell_type": "code",
   "execution_count": 3,
   "id": "6022e500",
   "metadata": {},
   "outputs": [],
   "source": [
    "privacy_quotes = [\" *'A child born today will grow up with no conception of privacy at all. They'll never know what it means to have a private moment to themselves an unrecorded, unanalyzed thought. And that's a problem because privacy matters; privacy is what allows us to determine who we are and who we want to be.'* \\n\\n \\n\\n - Edward Snowden \",\n",
    "                  \" *'Privacy is only really dead if we stop getting angry about the endless attacks on it.'* \\n\\n \\n\\n - Oliver Smith \",\n",
    "                  \" *'Without privacy there was no point in being an individual.'* \\n\\n \\n\\n - Jonathan Franzen \",\n",
    "                  \" *'Privacy is a hot-button issue. There is a raging war today for the personal data of the average consumer, and a Maginot line has been clearly drawn by the antagonists. On one side are marketers, advertisers, and Internet and data companies, who want unfettered access to as much personal information as possible. On the other side are consumer advocates, privacy purists and think tanks that want to limit or disallow commercial access to personal data, altogether. In the middle are consumers, who mostly want to keep getting as much free online stuff as possible, but who are clueless about the consequences.'* \\n\\n \\n\\n - Adonis Hoffman \",\n",
    "                  \" *'The saint and poet seek privacy to ends the most public and universal: and it is the secret of culture, to interest the man more in his public, than in his private quality.'* \\n\\n \\n\\n - Ralph Waldo Emerson \",\n",
    "                  \" *'Friends don't spy; true friendship is about privacy, too.'* \\n\\n \\n\\n - Stephen King \",\n",
    "                  \" *'There is a privacy in every man's conduct that policy should teach him to retain.'* \\n\\n \\n\\n - Norman Macdonald \",\n",
    "                  \" *'Privacy is a protection from the unreasonable use of state and corporate power. But that is, in a sense, a secondary thing. In the first instance, privacy is the statement in words of a simple understanding, which belongs to the instinctive world rather than the formal one, that some things are the province of those who experience them and not naturally open to the scrutiny of others: courtship and love, with their emotional nakedness; the simple moments of family life; the appalling rawness of grief. That the state and other systems are precluded from snooping on these things is important -- it is a strong barrier between the formal world and the hearth, extended or not -- but at root privacy is a simple understanding: not everything belongs to everyone.'* \\n\\n \\n\\n - Nick Harkaway \",\n",
    "                  \" *'A private life is not only more pleasant, but more happy than any princely state.'* \\n\\n \\n\\n - Rev. Robert Baird\",\n",
    "                  \" *'Who could deny that privacy is a jewel? It has always been the mark of privilege, the distinguishing feature of a truly urbane culture. Out of the cave, the tribal tepee, the pueblo, the community fortress, man emerged to build himself a house of his own with a shelter in it for himself and his diversions. Every age has seen it so. The poor might have to huddle together in cities for need's sake, and the frontiersman cling to his neighbors for the sake of protection. But in each civilization, as it advanced, those who could afford it chose the luxury of a withdrawing-place.'* \\n\\n \\n\\n - Phyllis McGinley \",\n",
    "                  \" *'Privacy is no longer a condition of American life, and is likely in the future to be something that only the rich will be able to purchase.'* \\n\\n \\n\\n - Lee Rainie \",\n",
    "                  \" *'There is a palpable sense that the dynamic of privacy has changed from one in which you are private by default, to one in which you are public by default, and private by effort.'* \\n\\n \\n\\n - Lee Rainie \",\n",
    "                  \" *'In our time, the symbol of state intrusion into the private life is the mandatory urine test.'* \\n\\n \\n\\n - Christopher Hitchens \",\n",
    "                  \" *'In our Governments, the real power lies in the majority of the Community, and the invasion of private rights is chiefly to be apprehended, not from the acts of Government contrary to the sense of its constituents, but from acts in which the Government is the mere instrument of the major number of the constituents.'* \\n\\n \\n\\n - James Madison \",\n",
    "                  \" *'For what reason have I this vast range and circuit, some square miles of unfrequented forest, for my privacy, abandoned to me by men? My nearest neighbor is a mile distant, and no house is visible from any place but the hill-tops within half a mile of my own. I have my horizon bounded by woods all to myself; a distant view of the railroad where it touches the pond on the one hand, and of the fence which skirts the woodland road on the other. But for the most part it is as solitary where I live as on the prairies. It is as much Asia or Africa as New England. I have, as it were, my own sun and moon and stars, and a little world all to myself.'* \\n\\n \\n\\n - Henry David Thoreau \",\n",
    "                  \" *'All violations of essential privacy are brutalizing.'* \\n\\n \\n\\n - Katharine Fullerton Gerould \",\n",
    "                  \" *'To be left alone is the most precious thing one can ask of the modern world.'* \\n\\n \\n\\n - Anthony Burgess \",\n",
    "                  \" *'The privacy that older generations once enjoyed is now the stuff of nostalgia. Younger people have a different understanding of what it entails. Those who grew up being able to stay in constant touch with their friends have come of age and are reshaping the world accordingly. We live in times when a personal relationship can be jettisoned because a digital message goes unanswered for a few minutes too long, where couples announce their decisions to divorce on Instagram.'* \\n\\n \\n\\n -  *Anonymous Editor* \",\n",
    "                  \" *'Demean thyself more warily in thy study than in the street; if thy public actions have a hundred witnesses, thy private have a thousand. The multitude looks but upon thy actions; thy conscience looks into them.'* \\n\\n \\n\\n - Francis Quarles \",\n",
    "                  \" *'He has not spent his life badly who has passed it from his birth to his burial in privacy.'* \\n\\n \\n\\n - Horace \",\n",
    "                  \" *'Big Brother in the form of an increasingly powerful government and in an increasingly powerful private sector will pile the records high with reasons why privacy should give way to national security, to law and order ... and the like.'* \\n\\n \\n\\n - William O. Douglas \",\n",
    "                  \" *'All human beings have three lives: public, private, and secret.'* \\n\\n \\n\\n - Gabriel Garcia Marquez \",\n",
    "                  \" *'Civilization is the progress toward a society of privacy. The savage's whole existence is public, ruled by the laws of his tribe. Civilization is the process of setting man free from men.'* \\n\\n \\n\\n - Ayn Rand \",\n",
    "                  \" *'We are rapidly entering the age of no privacy, where everyone is open to surveillance at all times; where there are no secrets from government.'* \\n\\n \\n\\n - William O. Douglas \",\n",
    "                  \" *'The trouble is that privacy is at once essential to, and in tension with, both freedom and security. A cabinet minister who keeps his mistress in satin sheets at the French taxpayer's expense cannot justly object when the press exposes his misuse of public funds. Our freedom to scrutinise the conduct of public figures trumps that minister's claim to privacy. The question is: where and how do we draw the line between a genuine public interest and that which is merely what interests the public?'* \\n\\n \\n\\n - Timothy Garton Ash \",\n",
    "                  \" *'Intimacy is an important part of a happy relationship, but so is a healthy respect for each other's privacy.'* \\n\\n \\n\\n - Leslie Becker-Phelps \",\n",
    "                  \" *'Privacy is not an option, and it shouldn't be the price we accept for just getting on the Internet.'* \\n\\n \\n\\n - Gary Kovacs \",\n",
    "                  \" *'Like all security, privacy is hard.'* \\n\\n \\n\\n - Cory Doctorow \",\n",
    "                  \" *'Privacy is implied. Privacy is not up for discussion.'* \\n\\n \\n\\n - Mikko Hypponen \",\n",
    "                  \" *'If privacy is outlawed, only outlaws will have privacy.'* \\n\\n \\n\\n - Philip R. Zimmermann \",\n",
    "                  \" *'Privacy is a privilege not granted to the aged or the young.'* \\n\\n \\n\\n - Margaret Laurence \",\n",
    "                  \" *'Privacy is something you can sell, but you can't buy it back.'* \\n\\n \\n\\n - Bob Dylan \",\n",
    "                  \" *'Human beings are not meant to lose their anonymity and privacy.'* \\n\\n \\n\\n - Sarah Chalke\",\n",
    "                  \" *'It's dangerous when people are willing to give up their privacy.' \\n\\n \\n\\n - Noam Chomsky \"\n",
    "                ]\n",
    "\n",
    "appendage1 = \"\\n\\n \\n\\n The evolution of consumer privacy in the past decade has grown exceedingly disconcerting. Find out how you can protect your privacy with [free online tools](https://www.privacytools.io/). \"\n",
    "privacy_quotes = list(map(lambda orig_string: orig_string + appendage1, privacy_quotes))\n",
    "appendage2 = \"\\n\\n \\n\\n ^^^^\\( ^^^^I'm ^^^^a ^^^^bot ^^^^, ^^^^bleep ^^^^bloop ^^^^| ^^^^[github](https://www.github.com/shahbajsingh/) ^^^^| ^^^^[source](https://github.com/shahbajsingh/privacy-advisor-bot/blob/main/privacy-advisor-bot.ipynb) ^^^^) \"\n",
    "privacy_quotes = list(map(lambda orig_string: orig_string + appendage2, privacy_quotes))"
   ]
  },
  {
   "cell_type": "code",
   "execution_count": 7,
   "id": "877609c6",
   "metadata": {},
   "outputs": [],
   "source": [
    "def chooseReply():\n",
    "    rand_index = random.randint(0, len(privacy_quotes) - 1)\n",
    "    REPLY = privacy_quotes[rand_index]\n",
    "    return REPLY"
   ]
  },
  {
   "cell_type": "code",
   "execution_count": null,
   "id": "b4efa44c",
   "metadata": {},
   "outputs": [],
   "source": [
    "subreddit = reddit.subreddit(\"news\")\n",
    "\n",
    "id_replied = []\n",
    "\n",
    "for submission in subreddit.top(\"month\", limit=50):\n",
    "    # print(submission.title)\n",
    "    for comment in submission.comments:\n",
    "        if hasattr(comment, \"body\"):\n",
    "            commentToLower = comment.body.lower()\n",
    "            if \" privacy \" in commentToLower and comment.id not in id_replied:\n",
    "                print('Retrieving comment...')\n",
    "                comment.reply(ChooseReply())\n",
    "                id_replied.append(comment.id)\n",
    "                print('Replied to comment {}'.format(comment.id))\n",
    "                time.sleep(601)\n",
    "                print('Repeat\\n')"
   ]
  },
  {
   "cell_type": "code",
   "execution_count": null,
   "id": "d2c2d3a9",
   "metadata": {},
   "outputs": [],
   "source": []
  }
 ],
 "metadata": {
  "kernelspec": {
   "display_name": "Python 3 (ipykernel)",
   "language": "python",
   "name": "python3"
  },
  "language_info": {
   "codemirror_mode": {
    "name": "ipython",
    "version": 3
   },
   "file_extension": ".py",
   "mimetype": "text/x-python",
   "name": "python",
   "nbconvert_exporter": "python",
   "pygments_lexer": "ipython3",
   "version": "3.10.2"
  }
 },
 "nbformat": 4,
 "nbformat_minor": 5
}
